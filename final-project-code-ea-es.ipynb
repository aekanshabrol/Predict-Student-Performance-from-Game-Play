{
 "cells": [
  {
   "cell_type": "code",
   "execution_count": 1,
   "id": "ad609a4c",
   "metadata": {
    "execution": {
     "iopub.execute_input": "2023-05-10T23:36:09.954287Z",
     "iopub.status.busy": "2023-05-10T23:36:09.953504Z",
     "iopub.status.idle": "2023-05-10T23:36:44.369604Z",
     "shell.execute_reply": "2023-05-10T23:36:44.368589Z"
    },
    "papermill": {
     "duration": 34.42946,
     "end_time": "2023-05-10T23:36:44.373466",
     "exception": false,
     "start_time": "2023-05-10T23:36:09.944006",
     "status": "completed"
    },
    "tags": []
   },
   "outputs": [
    {
     "name": "stdout",
     "output_type": "stream",
     "text": [
      "Requirement already satisfied: numpy in /opt/conda/lib/python3.7/site-packages (1.21.6)\r\n",
      "\u001b[33mWARNING: Running pip as the 'root' user can result in broken permissions and conflicting behaviour with the system package manager. It is recommended to use a virtual environment instead: https://pip.pypa.io/warnings/venv\u001b[0m\u001b[33m\r\n",
      "\u001b[0m\u001b[33mWARNING: There was an error checking the latest version of pip.\u001b[0m\u001b[33m\r\n",
      "\u001b[0m"
     ]
    }
   ],
   "source": [
    "! pip install numpy"
   ]
  },
  {
   "cell_type": "code",
   "execution_count": 2,
   "id": "39a1b659",
   "metadata": {
    "execution": {
     "iopub.execute_input": "2023-05-10T23:36:44.389164Z",
     "iopub.status.busy": "2023-05-10T23:36:44.388735Z",
     "iopub.status.idle": "2023-05-10T23:36:45.901435Z",
     "shell.execute_reply": "2023-05-10T23:36:45.900203Z"
    },
    "papermill": {
     "duration": 1.524327,
     "end_time": "2023-05-10T23:36:45.904801",
     "exception": false,
     "start_time": "2023-05-10T23:36:44.380474",
     "status": "completed"
    },
    "tags": []
   },
   "outputs": [],
   "source": [
    "# this is just a test submission just so we know that how our application of machine learning concepts is working\n",
    "# we are not furnishing our final submission with this code as our own\n",
    "# we are simply trying to famialize ourself with kaggle trough the submission of this arbitrary code inspired from kaggle\n",
    "\n",
    "\n",
    "#import necessary packages\n",
    "import pandas as pd, numpy as np, gc\n",
    "from sklearn.model_selection import KFold, GroupKFold\n",
    "from sklearn.tree import DecisionTreeClassifier\n",
    "from sklearn.ensemble import BaggingClassifier\n",
    "from sklearn.ensemble import RandomForestClassifier\n",
    "from sklearn.metrics import f1_score"
   ]
  },
  {
   "cell_type": "code",
   "execution_count": 3,
   "id": "44cf48c2",
   "metadata": {
    "execution": {
     "iopub.execute_input": "2023-05-10T23:36:45.920827Z",
     "iopub.status.busy": "2023-05-10T23:36:45.919748Z",
     "iopub.status.idle": "2023-05-10T23:38:42.831964Z",
     "shell.execute_reply": "2023-05-10T23:38:42.830896Z"
    },
    "papermill": {
     "duration": 116.928117,
     "end_time": "2023-05-10T23:38:42.839862",
     "exception": false,
     "start_time": "2023-05-10T23:36:45.911745",
     "status": "completed"
    },
    "tags": []
   },
   "outputs": [
    {
     "name": "stdout",
     "output_type": "stream",
     "text": [
      "Full train dataset shape is (26296946, 20)\n"
     ]
    }
   ],
   "source": [
    "# Reference: https://www.kaggle.com/competitions/predict-student-performance-from-game-play/discussion/384359\n",
    "dtypes={\n",
    "    'elapsed_time':np.int32,\n",
    "    'event_name':'category',\n",
    "    'name':'category',\n",
    "    'level':np.uint8,\n",
    "    'room_coor_x':np.float32,\n",
    "    'room_coor_y':np.float32,\n",
    "    'screen_coor_x':np.float32,\n",
    "    'screen_coor_y':np.float32,\n",
    "    'hover_duration':np.float32,\n",
    "    'text':'category',\n",
    "    'fqid':'category',\n",
    "    'room_fqid':'category',\n",
    "    'text_fqid':'category',\n",
    "    'fullscreen':'category',\n",
    "    'hq':'category',\n",
    "    'music':'category',\n",
    "    'level_group':'category'}\n",
    "\n",
    "pre_train = pd.read_csv('/kaggle/input/predict-student-performance-from-game-play/train.csv', dtype=dtypes)\n",
    "print(\"Full train dataset shape is {}\".format(pre_train.shape))"
   ]
  },
  {
   "cell_type": "code",
   "execution_count": 4,
   "id": "19f6dc4e",
   "metadata": {
    "execution": {
     "iopub.execute_input": "2023-05-10T23:38:42.855611Z",
     "iopub.status.busy": "2023-05-10T23:38:42.854940Z",
     "iopub.status.idle": "2023-05-10T23:38:44.340070Z",
     "shell.execute_reply": "2023-05-10T23:38:44.339194Z"
    },
    "papermill": {
     "duration": 1.49565,
     "end_time": "2023-05-10T23:38:44.342312",
     "exception": false,
     "start_time": "2023-05-10T23:38:42.846662",
     "status": "completed"
    },
    "tags": []
   },
   "outputs": [
    {
     "name": "stdout",
     "output_type": "stream",
     "text": [
      "(424116, 4)\n"
     ]
    },
    {
     "data": {
      "text/html": [
       "<div>\n",
       "<style scoped>\n",
       "    .dataframe tbody tr th:only-of-type {\n",
       "        vertical-align: middle;\n",
       "    }\n",
       "\n",
       "    .dataframe tbody tr th {\n",
       "        vertical-align: top;\n",
       "    }\n",
       "\n",
       "    .dataframe thead th {\n",
       "        text-align: right;\n",
       "    }\n",
       "</style>\n",
       "<table border=\"1\" class=\"dataframe\">\n",
       "  <thead>\n",
       "    <tr style=\"text-align: right;\">\n",
       "      <th></th>\n",
       "      <th>session_id</th>\n",
       "      <th>correct</th>\n",
       "      <th>session</th>\n",
       "      <th>q</th>\n",
       "    </tr>\n",
       "  </thead>\n",
       "  <tbody>\n",
       "    <tr>\n",
       "      <th>0</th>\n",
       "      <td>20090312431273200_q1</td>\n",
       "      <td>1</td>\n",
       "      <td>20090312431273200</td>\n",
       "      <td>1</td>\n",
       "    </tr>\n",
       "    <tr>\n",
       "      <th>1</th>\n",
       "      <td>20090312433251036_q1</td>\n",
       "      <td>0</td>\n",
       "      <td>20090312433251036</td>\n",
       "      <td>1</td>\n",
       "    </tr>\n",
       "    <tr>\n",
       "      <th>2</th>\n",
       "      <td>20090312455206810_q1</td>\n",
       "      <td>1</td>\n",
       "      <td>20090312455206810</td>\n",
       "      <td>1</td>\n",
       "    </tr>\n",
       "    <tr>\n",
       "      <th>3</th>\n",
       "      <td>20090313091715820_q1</td>\n",
       "      <td>0</td>\n",
       "      <td>20090313091715820</td>\n",
       "      <td>1</td>\n",
       "    </tr>\n",
       "    <tr>\n",
       "      <th>4</th>\n",
       "      <td>20090313571836404_q1</td>\n",
       "      <td>1</td>\n",
       "      <td>20090313571836404</td>\n",
       "      <td>1</td>\n",
       "    </tr>\n",
       "  </tbody>\n",
       "</table>\n",
       "</div>"
      ],
      "text/plain": [
       "             session_id  correct            session  q\n",
       "0  20090312431273200_q1        1  20090312431273200  1\n",
       "1  20090312433251036_q1        0  20090312433251036  1\n",
       "2  20090312455206810_q1        1  20090312455206810  1\n",
       "3  20090313091715820_q1        0  20090313091715820  1\n",
       "4  20090313571836404_q1        1  20090313571836404  1"
      ]
     },
     "execution_count": 4,
     "metadata": {},
     "output_type": "execute_result"
    }
   ],
   "source": [
    "# LOAD LABEL DATA\n",
    "# Splits the session id and question into seperate columns. \n",
    "# Note, that a unique session id consists of all the questions corresponding to that \n",
    "# session, i.e. one session represents one user completing the game.\n",
    "# We need to seperate this information to verify if the question is answered correctly \n",
    "# in later evaluations\n",
    "trlabels = pd.read_csv('/kaggle/input/predict-student-performance-from-game-play/train_labels.csv')\n",
    "trlabels['session'] = trlabels.session_id.apply(lambda x: int(x.split('_')[0]) )\n",
    "trlabels['q'] = trlabels.session_id.apply(lambda x: int(x.split('_')[-1][1:]) )\n",
    "print( trlabels.shape )\n",
    "trlabels.head()"
   ]
  },
  {
   "cell_type": "code",
   "execution_count": 5,
   "id": "00538d65",
   "metadata": {
    "execution": {
     "iopub.execute_input": "2023-05-10T23:38:44.359231Z",
     "iopub.status.busy": "2023-05-10T23:38:44.358185Z",
     "iopub.status.idle": "2023-05-10T23:38:44.365021Z",
     "shell.execute_reply": "2023-05-10T23:38:44.363887Z"
    },
    "papermill": {
     "duration": 0.017948,
     "end_time": "2023-05-10T23:38:44.367446",
     "exception": false,
     "start_time": "2023-05-10T23:38:44.349498",
     "status": "completed"
    },
    "tags": []
   },
   "outputs": [],
   "source": [
    "# A distinction is made between categorical (string), numerical (floats or integers) and \n",
    "# event (string).\n",
    "CATS = ['event_name', 'fqid', 'room_fqid', 'text']\n",
    "NUMS = ['elapsed_time','level','page','room_coor_x', 'room_coor_y', \n",
    "        'screen_coor_x', 'screen_coor_y', 'hover_duration']\n",
    "\n",
    "# https://www.kaggle.com/code/kimtaehun/lightgbm-baseline-with-aggregated-log-data\n",
    "EVENTS = ['navigate_click','person_click','cutscene_click','object_click',\n",
    "          'map_hover','notification_click','map_click','observation_click',\n",
    "          'checkpoint']"
   ]
  },
  {
   "cell_type": "code",
   "execution_count": 6,
   "id": "214ca79d",
   "metadata": {
    "execution": {
     "iopub.execute_input": "2023-05-10T23:38:44.383701Z",
     "iopub.status.busy": "2023-05-10T23:38:44.382609Z",
     "iopub.status.idle": "2023-05-10T23:38:44.395786Z",
     "shell.execute_reply": "2023-05-10T23:38:44.394744Z"
    },
    "papermill": {
     "duration": 0.023859,
     "end_time": "2023-05-10T23:38:44.398321",
     "exception": false,
     "start_time": "2023-05-10T23:38:44.374462",
     "status": "completed"
    },
    "tags": []
   },
   "outputs": [],
   "source": [
    "# Based on the different data defined above we engineer features that are grouped by, \n",
    "# and aggregated per unique session id and level group. Thus, resulting in a single row \n",
    "# for every session id containing the aggregated value of every feature.\n",
    "# Note, that the questions within one session are grouped per level group,\n",
    "# i.e. the 18 questions are distributed over 22 different levels, which makes up a \n",
    "# complete session.\n",
    "def feature_engineer(train):   \n",
    "    trains = []\n",
    "    for c in CATS:\n",
    "        #Define unique number of categorical data per level group within an unique session\n",
    "        tmp = train.groupby(['session_id','level_group'])[c].agg('nunique')\n",
    "        tmp.name = tmp.name + '_nunique'\n",
    "        trains.append(tmp)\n",
    "    for c in NUMS:\n",
    "        #Define the mean of the numerical data per level group within an unique session\n",
    "        tmp = train.groupby(['session_id','level_group'])[c].agg('mean')        \n",
    "        tmp.name = tmp.name + '_mean'\n",
    "        trains.append(tmp)\n",
    "    for c in NUMS:\n",
    "        #Define the std of the numerical data per level group within an unique session\n",
    "        tmp = train.groupby(['session_id','level_group'])[c].agg('std')         \n",
    "        tmp.name = tmp.name + '_std'\n",
    "        trains.append(tmp)\n",
    "    for c in EVENTS: \n",
    "        train[c] = (train.event_name == c).astype('int8')\n",
    "    for c in EVENTS + ['elapsed_time']:\n",
    "        #Define the sum of the occurences of an event per level group within an unique session\n",
    "        tmp = train.groupby(['session_id','level_group'])[c].agg('sum')         \n",
    "        tmp.name = tmp.name + '_sum'\n",
    "        trains.append(tmp)\n",
    "    train = train.drop(EVENTS,axis=1)\n",
    "        \n",
    "    train = pd.concat(trains,axis=1)\n",
    "    train = train.fillna(-1)\n",
    "    train = train.reset_index()\n",
    "    train = train.set_index('session_id')\n",
    "    return train"
   ]
  },
  {
   "cell_type": "code",
   "execution_count": 7,
   "id": "ea1d974d",
   "metadata": {
    "execution": {
     "iopub.execute_input": "2023-05-10T23:38:44.414557Z",
     "iopub.status.busy": "2023-05-10T23:38:44.413920Z",
     "iopub.status.idle": "2023-05-10T23:39:34.725769Z",
     "shell.execute_reply": "2023-05-10T23:39:34.724695Z"
    },
    "papermill": {
     "duration": 50.324597,
     "end_time": "2023-05-10T23:39:34.729924",
     "exception": false,
     "start_time": "2023-05-10T23:38:44.405327",
     "status": "completed"
    },
    "tags": []
   },
   "outputs": [
    {
     "data": {
      "text/html": [
       "<div>\n",
       "<style scoped>\n",
       "    .dataframe tbody tr th:only-of-type {\n",
       "        vertical-align: middle;\n",
       "    }\n",
       "\n",
       "    .dataframe tbody tr th {\n",
       "        vertical-align: top;\n",
       "    }\n",
       "\n",
       "    .dataframe thead th {\n",
       "        text-align: right;\n",
       "    }\n",
       "</style>\n",
       "<table border=\"1\" class=\"dataframe\">\n",
       "  <thead>\n",
       "    <tr style=\"text-align: right;\">\n",
       "      <th></th>\n",
       "      <th>level_group</th>\n",
       "      <th>event_name_nunique</th>\n",
       "      <th>fqid_nunique</th>\n",
       "      <th>room_fqid_nunique</th>\n",
       "      <th>text_nunique</th>\n",
       "      <th>elapsed_time_mean</th>\n",
       "      <th>level_mean</th>\n",
       "      <th>page_mean</th>\n",
       "      <th>room_coor_x_mean</th>\n",
       "      <th>room_coor_y_mean</th>\n",
       "      <th>...</th>\n",
       "      <th>navigate_click_sum</th>\n",
       "      <th>person_click_sum</th>\n",
       "      <th>cutscene_click_sum</th>\n",
       "      <th>object_click_sum</th>\n",
       "      <th>map_hover_sum</th>\n",
       "      <th>notification_click_sum</th>\n",
       "      <th>map_click_sum</th>\n",
       "      <th>observation_click_sum</th>\n",
       "      <th>checkpoint_sum</th>\n",
       "      <th>elapsed_time_sum</th>\n",
       "    </tr>\n",
       "    <tr>\n",
       "      <th>session_id</th>\n",
       "      <th></th>\n",
       "      <th></th>\n",
       "      <th></th>\n",
       "      <th></th>\n",
       "      <th></th>\n",
       "      <th></th>\n",
       "      <th></th>\n",
       "      <th></th>\n",
       "      <th></th>\n",
       "      <th></th>\n",
       "      <th></th>\n",
       "      <th></th>\n",
       "      <th></th>\n",
       "      <th></th>\n",
       "      <th></th>\n",
       "      <th></th>\n",
       "      <th></th>\n",
       "      <th></th>\n",
       "      <th></th>\n",
       "      <th></th>\n",
       "      <th></th>\n",
       "    </tr>\n",
       "  </thead>\n",
       "  <tbody>\n",
       "    <tr>\n",
       "      <th>20090312431273200</th>\n",
       "      <td>0-4</td>\n",
       "      <td>10</td>\n",
       "      <td>30</td>\n",
       "      <td>7</td>\n",
       "      <td>56</td>\n",
       "      <td>8.579356e+04</td>\n",
       "      <td>1.945455</td>\n",
       "      <td>-1.0</td>\n",
       "      <td>7.701275</td>\n",
       "      <td>-71.413750</td>\n",
       "      <td>...</td>\n",
       "      <td>81.0</td>\n",
       "      <td>22.0</td>\n",
       "      <td>28.0</td>\n",
       "      <td>11.0</td>\n",
       "      <td>4.0</td>\n",
       "      <td>8</td>\n",
       "      <td>2.0</td>\n",
       "      <td>4</td>\n",
       "      <td>1</td>\n",
       "      <td>1.415594e+07</td>\n",
       "    </tr>\n",
       "    <tr>\n",
       "      <th>20090312431273200</th>\n",
       "      <td>13-22</td>\n",
       "      <td>10</td>\n",
       "      <td>49</td>\n",
       "      <td>12</td>\n",
       "      <td>168</td>\n",
       "      <td>1.040601e+06</td>\n",
       "      <td>17.402381</td>\n",
       "      <td>-1.0</td>\n",
       "      <td>-130.347168</td>\n",
       "      <td>-162.004303</td>\n",
       "      <td>...</td>\n",
       "      <td>170.0</td>\n",
       "      <td>123.0</td>\n",
       "      <td>60.0</td>\n",
       "      <td>20.0</td>\n",
       "      <td>14.0</td>\n",
       "      <td>10</td>\n",
       "      <td>6.0</td>\n",
       "      <td>3</td>\n",
       "      <td>1</td>\n",
       "      <td>4.370523e+08</td>\n",
       "    </tr>\n",
       "    <tr>\n",
       "      <th>20090312431273200</th>\n",
       "      <td>5-12</td>\n",
       "      <td>10</td>\n",
       "      <td>39</td>\n",
       "      <td>11</td>\n",
       "      <td>124</td>\n",
       "      <td>3.572052e+05</td>\n",
       "      <td>8.054054</td>\n",
       "      <td>-1.0</td>\n",
       "      <td>14.306062</td>\n",
       "      <td>-57.269321</td>\n",
       "      <td>...</td>\n",
       "      <td>103.0</td>\n",
       "      <td>104.0</td>\n",
       "      <td>12.0</td>\n",
       "      <td>28.0</td>\n",
       "      <td>9.0</td>\n",
       "      <td>9</td>\n",
       "      <td>8.0</td>\n",
       "      <td>1</td>\n",
       "      <td>1</td>\n",
       "      <td>1.057327e+08</td>\n",
       "    </tr>\n",
       "    <tr>\n",
       "      <th>20090312433251036</th>\n",
       "      <td>0-4</td>\n",
       "      <td>11</td>\n",
       "      <td>22</td>\n",
       "      <td>6</td>\n",
       "      <td>49</td>\n",
       "      <td>9.763342e+04</td>\n",
       "      <td>1.870504</td>\n",
       "      <td>0.0</td>\n",
       "      <td>-84.045959</td>\n",
       "      <td>-53.671082</td>\n",
       "      <td>...</td>\n",
       "      <td>49.0</td>\n",
       "      <td>18.0</td>\n",
       "      <td>36.0</td>\n",
       "      <td>15.0</td>\n",
       "      <td>3.0</td>\n",
       "      <td>5</td>\n",
       "      <td>3.0</td>\n",
       "      <td>2</td>\n",
       "      <td>1</td>\n",
       "      <td>1.357104e+07</td>\n",
       "    </tr>\n",
       "    <tr>\n",
       "      <th>20090312433251036</th>\n",
       "      <td>13-22</td>\n",
       "      <td>11</td>\n",
       "      <td>73</td>\n",
       "      <td>16</td>\n",
       "      <td>183</td>\n",
       "      <td>2.498852e+06</td>\n",
       "      <td>17.762529</td>\n",
       "      <td>5.1</td>\n",
       "      <td>-30.762283</td>\n",
       "      <td>-142.861893</td>\n",
       "      <td>...</td>\n",
       "      <td>637.0</td>\n",
       "      <td>145.0</td>\n",
       "      <td>65.0</td>\n",
       "      <td>83.0</td>\n",
       "      <td>186.0</td>\n",
       "      <td>14</td>\n",
       "      <td>45.0</td>\n",
       "      <td>5</td>\n",
       "      <td>1</td>\n",
       "      <td>3.241011e+09</td>\n",
       "    </tr>\n",
       "  </tbody>\n",
       "</table>\n",
       "<p>5 rows × 31 columns</p>\n",
       "</div>"
      ],
      "text/plain": [
       "                  level_group  event_name_nunique  fqid_nunique  \\\n",
       "session_id                                                        \n",
       "20090312431273200         0-4                  10            30   \n",
       "20090312431273200       13-22                  10            49   \n",
       "20090312431273200        5-12                  10            39   \n",
       "20090312433251036         0-4                  11            22   \n",
       "20090312433251036       13-22                  11            73   \n",
       "\n",
       "                   room_fqid_nunique  text_nunique  elapsed_time_mean  \\\n",
       "session_id                                                              \n",
       "20090312431273200                  7            56       8.579356e+04   \n",
       "20090312431273200                 12           168       1.040601e+06   \n",
       "20090312431273200                 11           124       3.572052e+05   \n",
       "20090312433251036                  6            49       9.763342e+04   \n",
       "20090312433251036                 16           183       2.498852e+06   \n",
       "\n",
       "                   level_mean  page_mean  room_coor_x_mean  room_coor_y_mean  \\\n",
       "session_id                                                                     \n",
       "20090312431273200    1.945455       -1.0          7.701275        -71.413750   \n",
       "20090312431273200   17.402381       -1.0       -130.347168       -162.004303   \n",
       "20090312431273200    8.054054       -1.0         14.306062        -57.269321   \n",
       "20090312433251036    1.870504        0.0        -84.045959        -53.671082   \n",
       "20090312433251036   17.762529        5.1        -30.762283       -142.861893   \n",
       "\n",
       "                   ...  navigate_click_sum  person_click_sum  \\\n",
       "session_id         ...                                         \n",
       "20090312431273200  ...                81.0              22.0   \n",
       "20090312431273200  ...               170.0             123.0   \n",
       "20090312431273200  ...               103.0             104.0   \n",
       "20090312433251036  ...                49.0              18.0   \n",
       "20090312433251036  ...               637.0             145.0   \n",
       "\n",
       "                   cutscene_click_sum  object_click_sum  map_hover_sum  \\\n",
       "session_id                                                               \n",
       "20090312431273200                28.0              11.0            4.0   \n",
       "20090312431273200                60.0              20.0           14.0   \n",
       "20090312431273200                12.0              28.0            9.0   \n",
       "20090312433251036                36.0              15.0            3.0   \n",
       "20090312433251036                65.0              83.0          186.0   \n",
       "\n",
       "                   notification_click_sum  map_click_sum  \\\n",
       "session_id                                                 \n",
       "20090312431273200                       8            2.0   \n",
       "20090312431273200                      10            6.0   \n",
       "20090312431273200                       9            8.0   \n",
       "20090312433251036                       5            3.0   \n",
       "20090312433251036                      14           45.0   \n",
       "\n",
       "                   observation_click_sum  checkpoint_sum  elapsed_time_sum  \n",
       "session_id                                                                  \n",
       "20090312431273200                      4               1      1.415594e+07  \n",
       "20090312431273200                      3               1      4.370523e+08  \n",
       "20090312431273200                      1               1      1.057327e+08  \n",
       "20090312433251036                      2               1      1.357104e+07  \n",
       "20090312433251036                      5               1      3.241011e+09  \n",
       "\n",
       "[5 rows x 31 columns]"
      ]
     },
     "execution_count": 7,
     "metadata": {},
     "output_type": "execute_result"
    }
   ],
   "source": [
    "# create the features per piece of training data and display the head\n",
    "train = feature_engineer(pre_train)\n",
    "train.head()"
   ]
  },
  {
   "cell_type": "code",
   "execution_count": 8,
   "id": "c04fbb06",
   "metadata": {
    "execution": {
     "iopub.execute_input": "2023-05-10T23:39:34.747806Z",
     "iopub.status.busy": "2023-05-10T23:39:34.746755Z",
     "iopub.status.idle": "2023-05-10T23:39:34.757398Z",
     "shell.execute_reply": "2023-05-10T23:39:34.756416Z"
    },
    "papermill": {
     "duration": 0.022717,
     "end_time": "2023-05-10T23:39:34.760235",
     "exception": false,
     "start_time": "2023-05-10T23:39:34.737518",
     "status": "completed"
    },
    "tags": []
   },
   "outputs": [
    {
     "name": "stdout",
     "output_type": "stream",
     "text": [
      "We will train with 30 features\n",
      "We will train with 23562 users info\n"
     ]
    }
   ],
   "source": [
    "FEATURES = [c for c in train.columns if c != 'level_group']\n",
    "print('We will train with', len(FEATURES) ,'features')\n",
    "ALL_USERS = train.index.unique()\n",
    "print('We will train with', len(ALL_USERS) ,'users info')"
   ]
  },
  {
   "cell_type": "code",
   "execution_count": 9,
   "id": "d2823e93",
   "metadata": {
    "execution": {
     "iopub.execute_input": "2023-05-10T23:39:34.778199Z",
     "iopub.status.busy": "2023-05-10T23:39:34.777329Z",
     "iopub.status.idle": "2023-05-10T23:50:24.437827Z",
     "shell.execute_reply": "2023-05-10T23:50:24.436445Z"
    },
    "papermill": {
     "duration": 649.676502,
     "end_time": "2023-05-10T23:50:24.444434",
     "exception": false,
     "start_time": "2023-05-10T23:39:34.767932",
     "status": "completed"
    },
    "tags": []
   },
   "outputs": [
    {
     "name": "stdout",
     "output_type": "stream",
     "text": [
      "#########################\n",
      "### Fold 1\n",
      "#########################\n",
      "\n",
      "#########################\n",
      "### Fold 2\n",
      "#########################\n",
      "\n"
     ]
    }
   ],
   "source": [
    "from sklearn.model_selection import GridSearchCV\n",
    "gkf = GroupKFold(n_splits=2)\n",
    "\n",
    "# Tip: try different kfold variations\n",
    "# kf = KFold(n_splits=5) # example if you would like to try regular KFold\n",
    "\n",
    "# predictions == out of fold (predictions) collected in a dataframe\n",
    "# this means all predictions on test subset in each fold are collected\n",
    "# in the predictions dataframe\n",
    "predictions = pd.DataFrame(data=np.zeros((len(ALL_USERS),18)), index=ALL_USERS) \n",
    "models = {}\n",
    "\n",
    "# COMPUTE CV SCORE WITH 5 GROUP K FOLD\n",
    "for i, (train_index, test_index) in enumerate(gkf.split(X=train, groups=train.index)):\n",
    "    print('#'*25)\n",
    "    print('### Fold',i+1)\n",
    "    print('#'*25)\n",
    "    \n",
    "    # Hyperparameters --> Tip: (automatic) tuning, e.g. GridSearchCV, RandomizedSearhCV,\n",
    "    # or better yet: Bayesian Optimization\n",
    "\n",
    "    \n",
    "    # ITERATE THRU QUESTIONS 1 THRU 18\n",
    "    for t in range(1,19):\n",
    "        \n",
    "        # USE THIS TRAIN DATA WITH THESE QUESTIONS\n",
    "        if t<=3: grp = '0-4'\n",
    "        elif t<=13: grp = '5-12'\n",
    "        elif t<=22: grp = '13-22'\n",
    "            \n",
    "        # TRAIN DATA\n",
    "        train_x = train.iloc[train_index]\n",
    "        train_x = train_x.loc[train_x.level_group == grp]\n",
    "        train_users = train_x.index.values\n",
    "        train_y = trlabels.loc[trlabels.q==t].set_index('session').loc[train_users]\n",
    "        \n",
    "        # VALID DATA\n",
    "        valid_x = train.iloc[test_index]\n",
    "        valid_x = valid_x.loc[valid_x.level_group == grp]\n",
    "        valid_users = valid_x.index.values\n",
    "        valid_y = trlabels.loc[trlabels.q==t].set_index('session').loc[valid_users]\n",
    "        \n",
    "         # GRID SEARCH\n",
    "        #param_grid = {\"criterion\": [\"gini\", \"entropy\"],\n",
    "        #      \"max_depth\": np.arange(21),\n",
    "         #     \"n_estimators\": [100, 1000]}\n",
    "\n",
    "       # grid = GridSearchCV(RandomForestClassifier(), param_grid, cv=5)\n",
    "       # grid.fit(train_x[FEATURES].astype('float32'), train_y['correct']);\n",
    "        \n",
    "        #models = grid.best_params_\n",
    "        \n",
    "        # TRAIN MODEL        \n",
    "        clf =  RandomForestClassifier(criterion = \"gini\", max_depth = 4,\n",
    "                                     n_estimators = 1000)\n",
    "        clf.fit(train_x[FEATURES].astype('float32'), train_y['correct'])\n",
    "        \n",
    "        # SAVE MODEL, PREDICT VALID predictions\n",
    "        models[f'{grp}_{t}'] = clf\n",
    "        predictions.loc[valid_users, t-1] = clf.predict_proba(valid_x[FEATURES].astype('float32'))[:,1]\n",
    "        \n",
    "    print()"
   ]
  },
  {
   "cell_type": "code",
   "execution_count": 10,
   "id": "83e43dee",
   "metadata": {
    "execution": {
     "iopub.execute_input": "2023-05-10T23:50:24.463896Z",
     "iopub.status.busy": "2023-05-10T23:50:24.462724Z",
     "iopub.status.idle": "2023-05-10T23:50:24.606980Z",
     "shell.execute_reply": "2023-05-10T23:50:24.605831Z"
    },
    "papermill": {
     "duration": 0.157417,
     "end_time": "2023-05-10T23:50:24.610104",
     "exception": false,
     "start_time": "2023-05-10T23:50:24.452687",
     "status": "completed"
    },
    "tags": []
   },
   "outputs": [],
   "source": [
    "# PUT TRUE LABELS INTO DATAFRAME WITH 18 COLUMNS\n",
    "true = predictions.copy()\n",
    "for k in range(18):\n",
    "    # GET TRUE LABELS\n",
    "    tmp = trlabels.loc[trlabels.q == k+1].set_index('session').loc[ALL_USERS]\n",
    "    true[k] = tmp.correct.values"
   ]
  },
  {
   "cell_type": "code",
   "execution_count": 11,
   "id": "6efb05e0",
   "metadata": {
    "execution": {
     "iopub.execute_input": "2023-05-10T23:50:24.628527Z",
     "iopub.status.busy": "2023-05-10T23:50:24.627765Z",
     "iopub.status.idle": "2023-05-10T23:50:31.194133Z",
     "shell.execute_reply": "2023-05-10T23:50:31.193045Z"
    },
    "papermill": {
     "duration": 6.579156,
     "end_time": "2023-05-10T23:50:31.197352",
     "exception": false,
     "start_time": "2023-05-10T23:50:24.618196",
     "status": "completed"
    },
    "tags": []
   },
   "outputs": [
    {
     "name": "stdout",
     "output_type": "stream",
     "text": [
      "0.40, 0.41, 0.42, 0.43, 0.44, 0.45, 0.46, 0.47, 0.48, 0.49, 0.50, 0.51, 0.52, 0.53, 0.54, 0.55, 0.56, 0.57, 0.58, 0.59, 0.60, 0.61, 0.62, 0.63, 0.64, 0.65, 0.66, 0.67, 0.68, 0.69, 0.70, 0.71, 0.72, 0.73, 0.74, 0.75, 0.76, 0.77, 0.78, 0.79, 0.80, "
     ]
    }
   ],
   "source": [
    "# FIND BEST THRESHOLD TO CONVERT PROBS INTO 1s AND 0s\n",
    "scores = []; thresholds = []\n",
    "best_score = 0; best_threshold = 0\n",
    "\n",
    "for threshold in np.arange(0.4,0.81,0.01):\n",
    "    print(f'{threshold:.02f}, ',end='')\n",
    "    preds = (predictions.values.reshape((-1))>threshold).astype('int')\n",
    "    m = f1_score(true.values.reshape((-1)), preds, average='macro')   \n",
    "    scores.append(m)\n",
    "    thresholds.append(threshold)\n",
    "    if m>best_score:\n",
    "        best_score = m\n",
    "        best_threshold = threshold"
   ]
  },
  {
   "cell_type": "code",
   "execution_count": 12,
   "id": "4a590601",
   "metadata": {
    "execution": {
     "iopub.execute_input": "2023-05-10T23:50:31.223812Z",
     "iopub.status.busy": "2023-05-10T23:50:31.223383Z",
     "iopub.status.idle": "2023-05-10T23:50:31.557016Z",
     "shell.execute_reply": "2023-05-10T23:50:31.556023Z"
    },
    "papermill": {
     "duration": 0.351579,
     "end_time": "2023-05-10T23:50:31.561175",
     "exception": false,
     "start_time": "2023-05-10T23:50:31.209596",
     "status": "completed"
    },
    "tags": []
   },
   "outputs": [
    {
     "data": {
      "image/png": "[encoded data removed]",
      "text/plain": [
       "<Figure size 2000x500 with 1 Axes>"
      ]
     },
     "metadata": {},
     "output_type": "display_data"
    }
   ],
   "source": [
    "import matplotlib.pyplot as plt\n",
    "\n",
    "# PLOT THRESHOLD VS. F1_SCORE\n",
    "plt.figure(figsize=(20,5))\n",
    "plt.plot(thresholds,scores,'-o',color='blue')\n",
    "plt.scatter([best_threshold], [best_score], color='blue', s=300, alpha=1)\n",
    "plt.xlabel('Threshold',size=14)\n",
    "plt.ylabel('Validation F1 Score',size=14)\n",
    "plt.title(f'Threshold vs. F1_Score with Best F1_Score = {best_score:.3f} at Best Threshold = {best_threshold:.3}',size=18)\n",
    "plt.show()"
   ]
  },
  {
   "cell_type": "code",
   "execution_count": 13,
   "id": "c9ce7efb",
   "metadata": {
    "execution": {
     "iopub.execute_input": "2023-05-10T23:50:31.590424Z",
     "iopub.status.busy": "2023-05-10T23:50:31.589736Z",
     "iopub.status.idle": "2023-05-10T23:50:31.909919Z",
     "shell.execute_reply": "2023-05-10T23:50:31.908681Z"
    },
    "papermill": {
     "duration": 0.337495,
     "end_time": "2023-05-10T23:50:31.912535",
     "exception": false,
     "start_time": "2023-05-10T23:50:31.575040",
     "status": "completed"
    },
    "tags": []
   },
   "outputs": [
    {
     "name": "stdout",
     "output_type": "stream",
     "text": [
      "When using optimal threshold...\n",
      "Q0: F1 = 0.5662617167457482\n",
      "Q1: F1 = 0.49464879356568364\n",
      "Q2: F1 = 0.4829379622111523\n",
      "Q3: F1 = 0.5637732667533084\n",
      "Q4: F1 = 0.5101873033831125\n",
      "Q5: F1 = 0.5937004079112538\n",
      "Q6: F1 = 0.5685834275126962\n",
      "Q7: F1 = 0.5222578869623671\n",
      "Q8: F1 = 0.5812717236144959\n",
      "Q9: F1 = 0.38285187254818587\n",
      "Q10: F1 = 0.5862749515214962\n",
      "Q11: F1 = 0.47576293523626395\n",
      "Q12: F1 = 0.42025490871512233\n",
      "Q13: F1 = 0.5913467444949032\n",
      "Q14: F1 = 0.35832371031939747\n",
      "Q15: F1 = 0.4502188827547471\n",
      "Q16: F1 = 0.5331451212984747\n",
      "Q17: F1 = 0.48734796893017995\n",
      "==> Overall F1 = 0.6735564727657912\n"
     ]
    }
   ],
   "source": [
    "print('When using optimal threshold...')\n",
    "for k in range(18):\n",
    "        \n",
    "    # COMPUTE F1 SCORE PER QUESTION\n",
    "    m = f1_score(true[k].values, (predictions[k].values>best_threshold).astype('int'), average='macro')\n",
    "    print(f'Q{k}: F1 =', m)\n",
    "    \n",
    "# COMPUTE F1 SCORE OVERALL\n",
    "m = f1_score(true.values.reshape((-1)), (predictions.values.reshape((-1))>best_threshold).astype('int'), average='macro')\n",
    "print('==> Overall F1 =', m)"
   ]
  },
  {
   "cell_type": "code",
   "execution_count": 14,
   "id": "7249e325",
   "metadata": {
    "execution": {
     "iopub.execute_input": "2023-05-10T23:50:31.941295Z",
     "iopub.status.busy": "2023-05-10T23:50:31.940576Z",
     "iopub.status.idle": "2023-05-10T23:50:32.137531Z",
     "shell.execute_reply": "2023-05-10T23:50:32.136554Z"
    },
    "papermill": {
     "duration": 0.214657,
     "end_time": "2023-05-10T23:50:32.140408",
     "exception": false,
     "start_time": "2023-05-10T23:50:31.925751",
     "status": "completed"
    },
    "tags": []
   },
   "outputs": [],
   "source": [
    "# IMPORT KAGGLE API\n",
    "import jo_wilder\n",
    "env = jo_wilder.make_env()\n",
    "iter_test = env.iter_test()\n",
    "\n",
    "# CLEAR MEMORY\n",
    "import gc\n",
    "del trlabels, train, predictions, true\n",
    "_ = gc.collect()"
   ]
  },
  {
   "cell_type": "code",
   "execution_count": 15,
   "id": "d9eebf9a",
   "metadata": {
    "execution": {
     "iopub.execute_input": "2023-05-10T23:50:32.168274Z",
     "iopub.status.busy": "2023-05-10T23:50:32.167493Z",
     "iopub.status.idle": "2023-05-10T23:50:38.919247Z",
     "shell.execute_reply": "2023-05-10T23:50:38.918112Z"
    },
    "papermill": {
     "duration": 6.768802,
     "end_time": "2023-05-10T23:50:38.922139",
     "exception": false,
     "start_time": "2023-05-10T23:50:32.153337",
     "status": "completed"
    },
    "tags": []
   },
   "outputs": [
    {
     "name": "stdout",
     "output_type": "stream",
     "text": [
      "This version of the API is not optimized and should not be used to estimate the runtime of your code on the hidden test set.\n"
     ]
    }
   ],
   "source": [
    "limits = {'0-4':(1,4), '5-12':(4,14), '13-22':(14,19)}\n",
    "\n",
    "for (test, sample_submission) in iter_test:\n",
    "    \n",
    "    # FEATURE ENGINEER TEST DATA\n",
    "    train = feature_engineer(test)\n",
    "    \n",
    "    # INFER TEST DATA\n",
    "    grp = test.level_group.values[0]\n",
    "    a,b = limits[grp]\n",
    "    for t in range(a,b):\n",
    "        clf = models[f'{grp}_{t}']\n",
    "        p = clf.predict_proba(train[FEATURES].astype('float32'))[0,1]\n",
    "        mask = sample_submission.session_id.str.contains(f'q{t}')\n",
    "        sample_submission.loc[mask,'correct'] = int( p > best_threshold )\n",
    "    \n",
    "    env.predict(sample_submission)"
   ]
  },
  {
   "cell_type": "code",
   "execution_count": 16,
   "id": "3fde89ce",
   "metadata": {
    "execution": {
     "iopub.execute_input": "2023-05-10T23:50:38.952172Z",
     "iopub.status.busy": "2023-05-10T23:50:38.950939Z",
     "iopub.status.idle": "2023-05-10T23:50:38.966002Z",
     "shell.execute_reply": "2023-05-10T23:50:38.965096Z"
    },
    "papermill": {
     "duration": 0.032387,
     "end_time": "2023-05-10T23:50:38.968797",
     "exception": false,
     "start_time": "2023-05-10T23:50:38.936410",
     "status": "completed"
    },
    "tags": []
   },
   "outputs": [
    {
     "name": "stdout",
     "output_type": "stream",
     "text": [
      "(54, 2)\n"
     ]
    },
    {
     "data": {
      "text/html": [
       "<div>\n",
       "<style scoped>\n",
       "    .dataframe tbody tr th:only-of-type {\n",
       "        vertical-align: middle;\n",
       "    }\n",
       "\n",
       "    .dataframe tbody tr th {\n",
       "        vertical-align: top;\n",
       "    }\n",
       "\n",
       "    .dataframe thead th {\n",
       "        text-align: right;\n",
       "    }\n",
       "</style>\n",
       "<table border=\"1\" class=\"dataframe\">\n",
       "  <thead>\n",
       "    <tr style=\"text-align: right;\">\n",
       "      <th></th>\n",
       "      <th>session_id</th>\n",
       "      <th>correct</th>\n",
       "    </tr>\n",
       "  </thead>\n",
       "  <tbody>\n",
       "    <tr>\n",
       "      <th>0</th>\n",
       "      <td>20090109393214576_q1</td>\n",
       "      <td>1</td>\n",
       "    </tr>\n",
       "    <tr>\n",
       "      <th>1</th>\n",
       "      <td>20090109393214576_q2</td>\n",
       "      <td>1</td>\n",
       "    </tr>\n",
       "    <tr>\n",
       "      <th>2</th>\n",
       "      <td>20090109393214576_q3</td>\n",
       "      <td>1</td>\n",
       "    </tr>\n",
       "    <tr>\n",
       "      <th>3</th>\n",
       "      <td>20090109393214576_q4</td>\n",
       "      <td>1</td>\n",
       "    </tr>\n",
       "    <tr>\n",
       "      <th>4</th>\n",
       "      <td>20090109393214576_q5</td>\n",
       "      <td>0</td>\n",
       "    </tr>\n",
       "  </tbody>\n",
       "</table>\n",
       "</div>"
      ],
      "text/plain": [
       "             session_id  correct\n",
       "0  20090109393214576_q1        1\n",
       "1  20090109393214576_q2        1\n",
       "2  20090109393214576_q3        1\n",
       "3  20090109393214576_q4        1\n",
       "4  20090109393214576_q5        0"
      ]
     },
     "execution_count": 16,
     "metadata": {},
     "output_type": "execute_result"
    }
   ],
   "source": [
    "train = pd.read_csv('submission.csv')\n",
    "print( train.shape )\n",
    "train.head()"
   ]
  }
 ],
 "metadata": {
  "kernelspec": {
   "display_name": "Python 3",
   "language": "python",
   "name": "python3"
  },
  "language_info": {
   "codemirror_mode": {
    "name": "ipython",
    "version": 3
   },
   "file_extension": ".py",
   "mimetype": "text/x-python",
   "name": "python",
   "nbconvert_exporter": "python",
   "pygments_lexer": "ipython3",
   "version": "3.7.12"
  },
  "papermill": {
   "default_parameters": {},
   "duration": 883.421693,
   "end_time": "2023-05-10T23:50:40.213305",
   "environment_variables": {},
   "exception": null,
   "input_path": "__notebook__.ipynb",
   "output_path": "__notebook__.ipynb",
   "parameters": {},
   "start_time": "2023-05-10T23:35:56.791612",
   "version": "2.4.0"
  }
 },
 "nbformat": 4,
 "nbformat_minor": 5
}
